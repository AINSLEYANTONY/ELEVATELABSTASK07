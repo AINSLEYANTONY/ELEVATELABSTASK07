{
  "nbformat": 4,
  "nbformat_minor": 0,
  "metadata": {
    "colab": {
      "provenance": [],
      "authorship_tag": "ABX9TyPcaLIbvhYt9m0AzYls+Lvu"
    },
    "kernelspec": {
      "name": "python3",
      "display_name": "Python 3"
    },
    "language_info": {
      "name": "python"
    }
  },
  "cells": [
    {
      "cell_type": "code",
      "execution_count": 5,
      "metadata": {
        "colab": {
          "base_uri": "https://localhost:8080/"
        },
        "id": "UOTTC9H3CJPl",
        "outputId": "12916eaa-f7b0-4e23-ef94-349725329508"
      },
      "outputs": [
        {
          "output_type": "stream",
          "name": "stdout",
          "text": [
            "Preview of uploaded data:\n",
            "   id       date product  quantity  price\n",
            "0   1 2025-06-01   Apple        10     30\n",
            "1   2 2025-06-01  Banana         5     10\n",
            "2   3 2025-06-02   Apple         7     30\n",
            "3   4 2025-06-02  Orange         8     20\n",
            "4   5 2025-06-03  Banana        12     10\n"
          ]
        },
        {
          "output_type": "execute_result",
          "data": {
            "text/plain": [
              "8"
            ]
          },
          "metadata": {},
          "execution_count": 5
        }
      ],
      "source": [
        "import pandas as pd\n",
        "import sqlite3\n",
        "import os\n",
        "\n",
        "excel_file = \"/content/Sales Dataset.xlsx\"\n",
        "df = pd.read_excel(excel_file)\n",
        "\n",
        "print(\"Preview of uploaded data:\")\n",
        "print(df.head())\n",
        "\n",
        "\n",
        "if os.path.exists(\"sales_data.db\"):\n",
        "    os.remove(\"sales_data.db\")\n",
        "\n",
        "conn = sqlite3.connect(\"sales_data.db\")\n",
        "cursor = conn.cursor()\n",
        "cursor.execute(\"\"\"\n",
        "CREATE TABLE IF NOT EXISTS sales (\n",
        "    id INTEGER PRIMARY KEY AUTOINCREMENT,\n",
        "    date TEXT,\n",
        "    product TEXT,\n",
        "    quantity INTEGER,\n",
        "    price REAL\n",
        ")\n",
        "\"\"\")\n",
        "\n",
        "df.to_sql(\"sales\", conn, if_exists='append', index=False)\n"
      ]
    },
    {
      "cell_type": "code",
      "source": [
        "import matplotlib.pyplot as plt\n",
        "\n",
        "query = \"\"\"\n",
        "SELECT\n",
        "    product,\n",
        "    SUM(quantity) AS total_qty,\n",
        "    SUM(quantity * price) AS revenue\n",
        "FROM sales\n",
        "GROUP BY product\n",
        "\"\"\"\n",
        "summary_df = pd.read_sql_query(query, conn)\n",
        "conn.close()\n",
        "\n",
        "print(\"\\nSales Summary:\")\n",
        "print(summary_df)\n",
        "\n",
        "plt.figure(figsize=(8, 5))\n",
        "summary_df.plot(kind='bar', x='product', y='revenue', legend=False, color='lightblue')\n",
        "plt.title(\"Revenue per Product\")\n",
        "plt.xlabel(\"Product\")\n",
        "plt.ylabel(\"Revenue\")\n",
        "plt.tight_layout()\n",
        "\n",
        "plt.savefig(\"sales_chart.png\")\n",
        "plt.show()\n"
      ],
      "metadata": {
        "colab": {
          "base_uri": "https://localhost:8080/",
          "height": 608
        },
        "id": "dyNT4UxODPy-",
        "outputId": "00c3b2c1-c3c0-4459-e684-fc760d518c61"
      },
      "execution_count": 6,
      "outputs": [
        {
          "output_type": "stream",
          "name": "stdout",
          "text": [
            "\n",
            "Sales Summary:\n",
            "  product  total_qty  revenue\n",
            "0   Apple         23    690.0\n",
            "1  Banana         26    260.0\n",
            "2  Orange         13    260.0\n"
          ]
        },
        {
          "output_type": "display_data",
          "data": {
            "text/plain": [
              "<Figure size 800x500 with 0 Axes>"
            ]
          },
          "metadata": {}
        },
        {
          "output_type": "display_data",
          "data": {
            "text/plain": [
              "<Figure size 640x480 with 1 Axes>"
            ],
            "image/png": "[encoded data removed]"
          },
          "metadata": {}
        }
      ]
    }
  ]
}